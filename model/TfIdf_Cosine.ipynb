{
  "cells": [
    {
      "cell_type": "code",
      "execution_count": 1,
      "metadata": {
        "colab": {
          "base_uri": "https://localhost:8080/"
        },
        "id": "dSqBLRLRugV_",
        "outputId": "fb5b6474-4c27-42af-8d97-5dbbe23c417c"
      },
      "outputs": [
        {
          "ename": "ModuleNotFoundError",
          "evalue": "No module named 'bs4'",
          "output_type": "error",
          "traceback": [
            "\u001b[1;31m---------------------------------------------------------------------------\u001b[0m",
            "\u001b[1;31mModuleNotFoundError\u001b[0m                       Traceback (most recent call last)",
            "\u001b[1;32mv:\\independent projects\\Debt-O\\model\\TfIdf_Cosine.ipynb Cell 1\u001b[0m in \u001b[0;36m<cell line: 1>\u001b[1;34m()\u001b[0m\n\u001b[1;32m----> <a href='vscode-notebook-cell:/v%3A/independent%20projects/Debt-O/model/TfIdf_Cosine.ipynb#W0sZmlsZQ%3D%3D?line=0'>1</a>\u001b[0m \u001b[39mimport\u001b[39;00m \u001b[39mbs4\u001b[39;00m \u001b[39mas\u001b[39;00m \u001b[39mbs\u001b[39;00m\n\u001b[0;32m      <a href='vscode-notebook-cell:/v%3A/independent%20projects/Debt-O/model/TfIdf_Cosine.ipynb#W0sZmlsZQ%3D%3D?line=1'>2</a>\u001b[0m \u001b[39mimport\u001b[39;00m \u001b[39murllib\u001b[39;00m\u001b[39m.\u001b[39;00m\u001b[39mrequest\u001b[39;00m\n\u001b[0;32m      <a href='vscode-notebook-cell:/v%3A/independent%20projects/Debt-O/model/TfIdf_Cosine.ipynb#W0sZmlsZQ%3D%3D?line=2'>3</a>\u001b[0m \u001b[39mimport\u001b[39;00m \u001b[39mnltk\u001b[39;00m\n",
            "\u001b[1;31mModuleNotFoundError\u001b[0m: No module named 'bs4'"
          ]
        }
      ],
      "source": [
        "import bs4 as bs\n",
        "import urllib.request\n",
        "import nltk\n",
        "from sklearn.metrics.pairwise import cosine_similarity\n",
        "from sklearn.feature_extraction.text import TfidfVectorizer\n",
        "\n",
        "nltk.download(\"punkt\")\n",
        "# nltk.download('wordnet')"
      ]
    },
    {
      "cell_type": "code",
      "execution_count": null,
      "metadata": {
        "colab": {
          "base_uri": "https://localhost:8080/"
        },
        "id": "1aph37EL5NLf",
        "outputId": "968ad120-2591-4af7-e9b4-1d00fd0870f9"
      },
      "outputs": [],
      "source": [
        "#Open the cat web data page\n",
        "organ_data = urllib.request.urlopen('https://en.wikipedia.org/wiki/Human_body').read()\n",
        "#Find all the paragraph html from the web page\n",
        "organ_data_paragraphs  = bs.BeautifulSoup(organ_data,'lxml').find_all('p')\n",
        "#Creating the corpus of all the web page paragraphs\n",
        "organ_data_text = ''\n",
        "#Creating lower text corpus of cat paragraphs\n",
        "i = 0\n",
        "for p in organ_data_paragraphs:\n",
        "    organ_data_text += p.text.lower()\n",
        "print((organ_data_text))"
      ]
    },
    {
      "cell_type": "code",
      "execution_count": null,
      "metadata": {
        "colab": {
          "base_uri": "https://localhost:8080/",
          "height": 157
        },
        "id": "iJmCooGNBay_",
        "outputId": "188100fd-224d-4eda-89fa-f97c6ea805f6"
      },
      "outputs": [],
      "source": [
        "organ_data_text"
      ]
    },
    {
      "cell_type": "code",
      "execution_count": 17,
      "metadata": {
        "id": "-u2oOarz0HMw"
      },
      "outputs": [],
      "source": [
        "import re\n",
        "organ_data_text = re.sub(r'\\s+', ' ',re.sub(r'\\[[0-9]*\\]', ' ', organ_data_text))"
      ]
    },
    {
      "cell_type": "code",
      "execution_count": 18,
      "metadata": {
        "id": "v_gunvZy3kPU"
      },
      "outputs": [],
      "source": [
        "organ_sentences = nltk.sent_tokenize(organ_data_text)"
      ]
    },
    {
      "cell_type": "code",
      "execution_count": null,
      "metadata": {
        "colab": {
          "base_uri": "https://localhost:8080/"
        },
        "id": "yABcE0ot5poZ",
        "outputId": "86a23684-8f14-438a-f0d8-dc6a1be04aa6"
      },
      "outputs": [],
      "source": [
        "organ_sentences"
      ]
    },
    {
      "cell_type": "code",
      "execution_count": 20,
      "metadata": {
        "id": "RGULAAR1C0tG"
      },
      "outputs": [],
      "source": [
        "from sklearn.metrics.pairwise import cosine_similarity\n",
        "from sklearn.feature_extraction.text import TfidfVectorizer\n",
        "def chatbot_answer(user_query):\n",
        "    \n",
        "    #Append the query to the sentences list\n",
        "    organ_sentences.append(user_query)\n",
        "    #Create the sentences vector based on the list\n",
        "    vectorizer = TfidfVectorizer()\n",
        "    sentences_vectors = vectorizer.fit_transform(organ_sentences)\n",
        "    \n",
        "    #Measure the cosine similarity and take the second closest index because the first index is the user query\n",
        "    vector_values = cosine_similarity(sentences_vectors[-1], sentences_vectors)\n",
        "    answer = organ_sentences[vector_values.argsort()[0][-2]]\n",
        "    #Final check to make sure there are result present. If all the result are 0, means the text input by us are not captured in the corpus\n",
        "    input_check = vector_values.flatten()\n",
        "    input_check.sort()\n",
        "    \n",
        "    if input_check[-2] == 0:\n",
        "        return \"Any other healthy chat?\"\n",
        "    else: \n",
        "        return answer"
      ]
    },
    {
      "cell_type": "code",
      "execution_count": null,
      "metadata": {
        "id": "MaCZq8P1DoRM"
      },
      "outputs": [],
      "source": [
        "print(\"Hello, I am the Retrieval Based Chatbot. What is your healthy questions?:\")\n",
        "while(True):\n",
        "    query = input().lower()\n",
        "    if query in [\"hi\", \"hey\", \"is anyone there?\", \"hello\", \"hay\", \"hi organo\",\"hey organo\"]:\n",
        "        print(\"Organo Chatbot: \", end=\"\")\n",
        "        print(\"Hey Organo's wholesome welcome!!!\")\n",
        "    elif query not in ['bye', 'good bye', 'take care']:\n",
        "        print(\"Organo Chatbot: \", end=\"\")\n",
        "        print(chatbot_answer(query))\n",
        "        organ_sentences.remove(query)\n",
        "    else:\n",
        "        print(\"See You Again\")\n",
        "        break"
      ]
    }
  ],
  "metadata": {
    "accelerator": "GPU",
    "colab": {
      "collapsed_sections": [],
      "name": "TfIdf-Cosine.ipynb",
      "provenance": []
    },
    "gpuClass": "standard",
    "kernelspec": {
      "display_name": "Python 3.10.8 64-bit (microsoft store)",
      "language": "python",
      "name": "python3"
    },
    "language_info": {
      "codemirror_mode": {
        "name": "ipython",
        "version": 3
      },
      "file_extension": ".py",
      "mimetype": "text/x-python",
      "name": "python",
      "nbconvert_exporter": "python",
      "pygments_lexer": "ipython3",
      "version": "3.10.8"
    },
    "vscode": {
      "interpreter": {
        "hash": "06ecb03a1daad0dc2ded3e587be7d59d9de07b675291fa224bdcc5f2c4fd6a62"
      }
    }
  },
  "nbformat": 4,
  "nbformat_minor": 0
}
